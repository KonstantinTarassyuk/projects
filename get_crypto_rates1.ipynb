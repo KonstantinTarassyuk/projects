{
 "cells": [
  {
   "cell_type": "code",
   "execution_count": null,
   "id": "1868eaa7-1602-47b7-85e0-876dfecc78ff",
   "metadata": {},
   "outputs": [
    {
     "name": "stdout",
     "output_type": "stream",
     "text": [
      " * Serving Flask app '__main__'\n",
      " * Debug mode: off\n"
     ]
    },
    {
     "name": "stderr",
     "output_type": "stream",
     "text": [
      "WARNING: This is a development server. Do not use it in a production deployment. Use a production WSGI server instead.\n",
      " * Running on all addresses (0.0.0.0)\n",
      " * Running on http://127.0.0.1:8080\n",
      " * Running on http://192.168.100.105:8080\n",
      "Press CTRL+C to quit\n",
      "127.0.0.1 - - [10/Feb/2025 17:35:59] \"GET /data HTTP/1.1\" 200 -\n"
     ]
    }
   ],
   "source": [
    "from flask import Flask, jsonify\n",
    "import yfinance as yf\n",
    "import pandas as pd\n",
    "\n",
    "app = Flask(__name__)\n",
    "\n",
    "def get_market_data():\n",
    "    \"\"\"Fetch real-time market values from Yahoo Finance.\"\"\"\n",
    "    tickers = [\"BTC-USD\", \"ETH-USD\", \"TRUMP-OFFICIAL-USD\"]\n",
    "    data = {}\n",
    "\n",
    "    for ticker in tickers:\n",
    "        try:\n",
    "            stock = yf.Ticker(ticker)\n",
    "            info = stock.history(period=\"1d\")\n",
    "            last_price = info[\"Close\"].iloc[-1] if not info.empty else None\n",
    "            data[ticker] = round(last_price, 4) if last_price else \"No Data\"\n",
    "        except Exception as e:\n",
    "            data[ticker] = f\"Error: {str(e)}\"\n",
    "\n",
    "    return data\n",
    "\n",
    "@app.route('/data', methods=['GET'])\n",
    "def serve_data():\n",
    "    \"\"\"Serve real-time market data as JSON.\"\"\"\n",
    "    market_data = get_market_data()\n",
    "    return jsonify(market_data)\n",
    "\n",
    "if __name__ == '__main__':\n",
    "    try:\n",
    "        app.run(host=\"0.0.0.0\", port=8080, debug=False)\n",
    "    except Exception as e:\n",
    "        print(f\"Server failed to start: {e}\")"
   ]
  }
 ],
 "metadata": {
  "kernelspec": {
   "display_name": "Python [conda env:base] *",
   "language": "python",
   "name": "conda-base-py"
  },
  "language_info": {
   "codemirror_mode": {
    "name": "ipython",
    "version": 3
   },
   "file_extension": ".py",
   "mimetype": "text/x-python",
   "name": "python",
   "nbconvert_exporter": "python",
   "pygments_lexer": "ipython3",
   "version": "3.11.7"
  }
 },
 "nbformat": 4,
 "nbformat_minor": 5
}
